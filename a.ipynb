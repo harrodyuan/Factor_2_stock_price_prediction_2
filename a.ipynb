{
 "cells": [
  {
   "cell_type": "code",
   "execution_count": null,
   "metadata": {},
   "outputs": [],
   "source": [
    "# You are given a matrix A consisting of N rows and M columns. Each field of the matrixcontains a positive integer.\n",
    "# You want to find a path consisting of neighboring fields. Two fields are neighboring if theyshare a common side. The path can start and end on any field and can turn left or right atmost once.\n",
    "# The product of a path is an integer obtained by multiplying all the integers on the path. Findsuch a path whose product contains the maximum possible number of trailing zeros.Write a function\n",
    "# def solution(A)\n",
    "# that, given a matrix of integers, consisting of N rows and M columns, returns the maximumnumber of trailing zeros that some path with at most one turn contains.Examples:\n",
    "# 1. Given the following matrix (N=3, M=3)\n",
    "# 10\n",
    "# 100\n",
    "# 10\n",
    "# 10\n",
    "# 0\n",
    "# the function should return 5. You can obtain five trailing zeros by taking the product ofnumbers 10, 10, 100 and 10 (100,000)2. Given the following matrix (N=3, M=4):\n",
    "\n",
    "\n",
    "def solution(A):\n",
    "    # write your code in Python 3.6\n",
    "    \n",
    "    pass"
   ]
  }
 ],
 "metadata": {
  "language_info": {
   "name": "python"
  }
 },
 "nbformat": 4,
 "nbformat_minor": 2
}
